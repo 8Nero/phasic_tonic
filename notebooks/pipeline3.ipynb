{
 "cells": [
  {
   "cell_type": "code",
   "execution_count": 1,
   "metadata": {},
   "outputs": [],
   "source": [
    "from phasic_tonic.detect_phasic import detect_phasic\n",
    "from phasic_tonic.DatasetLoader import DatasetLoader\n",
    "from phasic_tonic.helper import get_metadata\n",
    "from phasic_tonic.runtime_logger import logger_setup\n",
    "from phasic_tonic.utils import get_sequences, get_segments\n",
    "\n",
    "import numpy as np\n",
    "import pandas as pd\n",
    "import pynapple as nap\n",
    "import yasa\n",
    "\n",
    "from tqdm.auto import tqdm\n",
    "from scipy.io import loadmat\n",
    "from mne.filter import resample\n",
    "\n",
    "targetFs = 500\n",
    "\n",
    "logger = logger_setup()\n",
    "\n",
    "CONFIG_DIR = \"/home/nero/phasic_tonic/data/dataset_loading.yaml\"\n",
    "DATASET_DIR = \"/home/nero/datasets/preprocessed\"\n",
    "\n",
    "def get_start_end(hypno: np.ndarray, sleep_state_id: int):\n",
    "    \"\"\"Convert sleep states into lists of start and end time indices.\"\"\"\n",
    "    seq = get_sequences(np.where(hypno == sleep_state_id)[0])\n",
    "    start = []\n",
    "    end = []\n",
    "    for s, e in seq:\n",
    "        start.append(s)\n",
    "        end.append(e)\n",
    "    return (start, end)\n",
    "\n",
    "def str_to_tuple(string):\n",
    "    string = string.strip(\"()\")\n",
    "    parts = string.split(\",\")\n",
    "    return tuple(map(int, parts))\n",
    "\n",
    "def load_data(fname):\n",
    "    loaded_data = np.load(fname)\n",
    "    loaded_dict = {str_to_tuple(key): loaded_data[key] for key in loaded_data.files}\n",
    "    return loaded_dict"
   ]
  },
  {
   "cell_type": "code",
   "execution_count": 2,
   "metadata": {},
   "outputs": [
    {
     "name": "stdout",
     "output_type": "stream",
     "text": [
      "{(9121, 9168): [(4578998, 4579494)], (9430, 9468): [], (9738, 9820): [(4894364, 4895363), (4904309, 4905333), (4905697, 4906490)]}\n"
     ]
    }
   ],
   "source": [
    "from pathlib import Path\n",
    "from phasic_tonic.detect_phasic_v2 import detect_phasic_v2\n",
    "\n",
    "datasets = Path(DATASET_DIR).glob('*.npz')\n",
    "max = 1\n",
    "trial = ''\n",
    "\n",
    "for fname in datasets:\n",
    "    metadata = get_metadata(str(fname.stem))\n",
    "    rem_epochs = load_data(fname)\n",
    "    phREM = detect_phasic_v2(rem_epochs, fs=500)\n",
    "    print(phREM)\n",
    "    break\n"
   ]
  },
  {
   "cell_type": "code",
   "execution_count": null,
   "metadata": {},
   "outputs": [],
   "source": []
  },
  {
   "cell_type": "code",
   "execution_count": 31,
   "metadata": {},
   "outputs": [],
   "source": [
    "import numpy as np\n",
    "from scipy.signal import hilbert\n",
    "from neurodsp.filt import filter_signal\n",
    "\n",
    "def get_rem_epochs(eeg, hypno, fs, min_dur=3):\n",
    "    rem_seq = get_sequences(np.where(hypno == 5)[0])\n",
    "    rem_idx = [(start * fs, (end + 1) * fs) for start, end in rem_seq if (end - start) > min_dur]\n",
    "    \n",
    "    if not rem_idx:\n",
    "        raise ValueError(\"No REM epochs greater than min_dur.\")\n",
    "    \n",
    "    rem_epochs = get_segments(rem_idx, eeg)\n",
    "    return {seq: seg for seq, seg in zip(rem_seq, rem_epochs)}\n",
    "\n",
    "def preprocess_rem_epoch(epoch, fs, w1=5.0, w2=12.0):\n",
    "    epoch = filter_signal(epoch, fs, 'bandpass', (w1, w2), remove_edges=False)\n",
    "    analytic_signal = hilbert(epoch)\n",
    "    return np.angle(analytic_signal), np.abs(analytic_signal)\n",
    "\n",
    "def detect_troughs(signal, threshold=-3):\n",
    "    lidx = np.where(signal[0:-2] > signal[1:-1])[0]\n",
    "    ridx = np.where(signal[1:-1] <= signal[2:])[0]\n",
    "    thidx = np.where(signal[1:-1] < threshold)[0]\n",
    "    return np.intersect1d(lidx, np.intersect1d(ridx, thidx)) + 1\n",
    "\n",
    "def smooth_signal(signal, window_size=11):\n",
    "    filt = np.ones(window_size) / window_size\n",
    "    return np.convolve(signal, filt, 'same')\n",
    "\n",
    "def get_phasic_candidates(sdiff, tridx, thr1, thr_dur, fs):\n",
    "    cand_idx = np.where(sdiff <= thr1)[0]\n",
    "    cand = get_sequences(cand_idx)\n",
    "    return [(start, end) for start, end in cand if ((tridx[end] - tridx[start] + 1) / fs) * 1000 >= thr_dur]\n",
    "\n",
    "def is_valid_phasic(start, end, sdiff, eegh, tridx, thr2, thr3):\n",
    "    min_sdiff = np.min(sdiff[start:end])\n",
    "    mean_amp = np.mean(eegh[tridx[start]:tridx[end]+1])\n",
    "    return min_sdiff <= thr2 and mean_amp >= thr3\n",
    "\n",
    "def detect_phasic(eeg, hypno, fs, thr_dur=900):\n",
    "    rem_epochs = get_rem_epochs(eeg, hypno, fs)\n",
    "    \n",
    "    trough_difference_list = []\n",
    "    rem_eeg = np.array([])\n",
    "    eeg_seq, smooth_difference_seq, trough_idx_seq = {}, {}, {}\n",
    "    \n",
    "    for idx, epoch in rem_epochs.items():\n",
    "        inst_phase, inst_amp = preprocess_rem_epoch(epoch, fs)\n",
    "        trough_idx = detect_troughs(inst_phase)\n",
    "        trough_difference = np.diff(trough_idx)\n",
    "        \n",
    "        smooth_difference_seq[idx] = smooth_signal(trough_difference)\n",
    "        trough_idx_seq[idx] = trough_idx\n",
    "        eeg_seq[idx] = inst_amp\n",
    "        \n",
    "        trough_difference_list.extend(trough_difference)\n",
    "        rem_eeg = np.concatenate((rem_eeg, inst_amp))\n",
    "    \n",
    "    trough_difference_smooth = smooth_signal(np.array(trough_difference_list))\n",
    "    thr1, thr2, thr3 = np.percentile(trough_difference_smooth, 10), np.percentile(trough_difference_smooth, 5), rem_eeg.mean()\n",
    "    \n",
    "    phasicREM = {rem_idx: [] for rem_idx in rem_epochs.keys()}\n",
    "    \n",
    "    for rem_idx, trough_idx in trough_idx_seq.items():\n",
    "        rem_start, rem_end = rem_idx\n",
    "        offset = rem_start * fs\n",
    "        smooth_difference, eegh = smooth_difference_seq[rem_idx], eeg_seq[rem_idx]\n",
    "        \n",
    "        candidates = get_phasic_candidates(smooth_difference, trough_idx, thr1, thr_dur, fs)\n",
    "        \n",
    "        for start, end in candidates:\n",
    "            if is_valid_phasic(start, end, smooth_difference, eegh, trough_idx, thr2, thr3):\n",
    "                t_a = trough_idx[start] + offset\n",
    "                t_b = min(trough_idx[end] + offset, rem_end * fs)\n",
    "                phasicREM[rem_idx].append((t_a, t_b + 1))\n",
    "    \n",
    "    return phasicREM"
   ]
  },
  {
   "cell_type": "code",
   "execution_count": 33,
   "metadata": {},
   "outputs": [],
   "source": [
    "def detect_phasic_v2(rem_epochs, fs, thr_dur=900):\n",
    "    trough_difference_list = []\n",
    "    rem_eeg = np.array([])\n",
    "    eeg_seq, smooth_difference_seq, trough_idx_seq = {}, {}, {}\n",
    "    \n",
    "    for idx, epoch in rem_epochs.items():\n",
    "        inst_phase, inst_amp = preprocess_rem_epoch(epoch, fs)\n",
    "        trough_idx = detect_troughs(inst_phase)\n",
    "        trough_difference = np.diff(trough_idx)\n",
    "        \n",
    "        smooth_difference_seq[idx] = smooth_signal(trough_difference)\n",
    "        trough_idx_seq[idx] = trough_idx\n",
    "        eeg_seq[idx] = inst_amp\n",
    "        \n",
    "        trough_difference_list.extend(trough_difference)\n",
    "        rem_eeg = np.concatenate((rem_eeg, inst_amp))\n",
    "    \n",
    "    trough_difference_smooth = smooth_signal(np.array(trough_difference_list))\n",
    "    thr1, thr2, thr3 = np.percentile(trough_difference_smooth, 10), np.percentile(trough_difference_smooth, 5), rem_eeg.mean()\n",
    "    \n",
    "    phasicREM = {rem_idx: [] for rem_idx in rem_epochs.keys()}\n",
    "    \n",
    "    for rem_idx, trough_idx in trough_idx_seq.items():\n",
    "        rem_start, rem_end = rem_idx\n",
    "        offset = rem_start * fs\n",
    "        smooth_difference, eegh = smooth_difference_seq[rem_idx], eeg_seq[rem_idx]\n",
    "        \n",
    "        candidates = get_phasic_candidates(smooth_difference, trough_idx, thr1, thr_dur, fs)\n",
    "        \n",
    "        for start, end in candidates:\n",
    "            if is_valid_phasic(start, end, smooth_difference, eegh, trough_idx, thr2, thr3):\n",
    "                t_a = trough_idx[start] + offset\n",
    "                t_b = min(trough_idx[end] + offset, rem_end * fs)\n",
    "                phasicREM[rem_idx].append((t_a, t_b + 1))\n",
    "    \n",
    "    return phasicREM"
   ]
  },
  {
   "cell_type": "code",
   "execution_count": 23,
   "metadata": {},
   "outputs": [
    {
     "data": {
      "text/plain": [
       "'5-3'"
      ]
     },
     "execution_count": 23,
     "metadata": {},
     "output_type": "execute_result"
    }
   ],
   "source": [
    "trial"
   ]
  },
  {
   "cell_type": "markdown",
   "metadata": {},
   "source": [
    "Check the number of loaded recordings"
   ]
  },
  {
   "cell_type": "code",
   "execution_count": 33,
   "metadata": {},
   "outputs": [],
   "source": [
    "cbd_cnt = 0\n",
    "rgs_cnt = 0\n",
    "os_cnt = 0\n",
    "\n",
    "# Count recordings belonging to CBD dataset\n",
    "for name in mapped_datasets:\n",
    "    metadata = get_metadata(name)\n",
    "    if metadata['treatment'] == 0 or metadata['treatment'] == 1:\n",
    "        cbd_cnt += 1\n",
    "    elif metadata['treatment'] == 2 or metadata['treatment'] == 3:\n",
    "        rgs_cnt += 1\n",
    "    elif metadata['treatment'] == 4:\n",
    "        os_cnt += 1\n",
    "\n",
    "assert cbd_cnt == 170\n",
    "assert rgs_cnt == 159\n",
    "assert os_cnt == 210"
   ]
  },
  {
   "cell_type": "markdown",
   "metadata": {},
   "source": [
    "# Loop through the dataset"
   ]
  },
  {
   "cell_type": "code",
   "execution_count": null,
   "metadata": {},
   "outputs": [],
   "source": [
    "with tqdm(mapped_datasets) as mapped_tqdm:\n",
    "    for name in mapped_tqdm:\n",
    "        metadata = get_metadata(name)\n",
    "        mapped_tqdm.set_postfix_str(name)\n",
    "        states_fname, hpc_fname, pfc_fname = mapped_datasets[name]\n",
    "        logger.debug(\"Loading: {0}\".format(name))\n",
    "\n",
    "        if metadata[\"treatment\"] == 0 or metadata[\"treatment\"] == 1:\n",
    "            n_down = n_down_cbd\n",
    "        elif metadata[\"treatment\"] == 2 or metadata[\"treatment\"] == 3:\n",
    "            n_down = n_down_rgs\n",
    "        elif metadata[\"treatment\"] == 4:\n",
    "            n_down = n_down_os\n",
    "        \n",
    "        # Load the LFP data\n",
    "        lfpHPC = loadmat(hpc_fname)['HPC'].flatten()\n",
    "        lfpPFC = loadmat(pfc_fname)['PFC'].flatten()\n",
    "\n",
    "        # Load the states\n",
    "        hypno = loadmat(states_fname)['states'].flatten()\n",
    "        \n",
    "        # Skip if no REM epoch is detected\n",
    "        if(not (np.any(hypno == 5))):\n",
    "            logger.debug(\"No REM detected. Skipping.\")\n",
    "            continue\n",
    "        elif(np.sum(np.diff(get_sequences(np.where(hypno == 5)[0]))) < 10):\n",
    "            logger.debug(\"No REM longer than 10s. Skipping.\")\n",
    "            continue\n",
    "        \n",
    "        # Create Pynapple IntervalSet        \n",
    "        start, end = get_start_end(hypno=hypno, sleep_state_id=5)\n",
    "        rem_interval = nap.IntervalSet(start=start, end=end)\n",
    "        \n",
    "        # Create TsdFrame for HPC and PFC signals\n",
    "        fs = n_down*targetFs\n",
    "        t = np.arange(0, len(lfpHPC)/fs, 1/fs)\n",
    "        lfp = nap.TsdFrame(t=t, d=np.vstack([lfpHPC, lfpPFC]).T, columns=['HPC', 'PFC'])\n",
    "        \n",
    "        # Detect phasic intervals\n",
    "        lfpHPC_down = preprocess(lfpHPC, n_down)\n",
    "        phREM = detect_phasic(lfpHPC_down, hypno, targetFs)\n",
    "        \n",
    "        # Create phasic REM IntervalSet\n",
    "        start, end = [], []\n",
    "        for rem_idx in phREM:\n",
    "            for s, e in phREM[rem_idx]:\n",
    "                start.append(s/targetFs)\n",
    "                end.append(e/targetFs)\n",
    "        phasic_interval = nap.IntervalSet(start, end)\n",
    "\n",
    "        tonic_interval = rem_interval.set_diff(phasic_interval)\n",
    "        "
   ]
  },
  {
   "cell_type": "code",
   "execution_count": 66,
   "metadata": {},
   "outputs": [
    {
     "name": "stderr",
     "output_type": "stream",
     "text": [
      "/tmp/ipykernel_23139/1249661457.py:21: UserWarning: Some epochs have no duration\n",
      "  rem_interval = nap.IntervalSet(start=start, end=end)\n"
     ]
    }
   ],
   "source": [
    "hpc_fname = mapped_datasets['Rat5_SD8_HC_0_posttrial4'][1]\n",
    "pfc_fname = mapped_datasets['Rat5_SD8_HC_0_posttrial4'][2]\n",
    "hypno = mapped_datasets['Rat5_SD8_HC_0_posttrial4'][0]\n",
    "\n",
    "# Load the LFP data\n",
    "lfpHPC = loadmat(hpc_fname)['HPC'].flatten()\n",
    "lfpPFC = loadmat(pfc_fname)['PFC'].flatten()\n",
    "\n",
    "# Load the states\n",
    "hypno = loadmat(hypno)['states'].flatten()\n",
    "\n",
    "# Skip if no REM epoch is detected\n",
    "if(not (np.any(hypno == 5))):\n",
    "    print(\"No REM detected. Skipping.\")\n",
    "elif(np.sum(np.diff(get_sequences(np.where(hypno == 5)[0]))) < 10):\n",
    "    logger.debug(\"No REM longer than 10s. Skipping.\")\n",
    "    print(np.sum(np.diff(get_sequences(np.where(hypno == 5)[0]))))\n",
    "\n",
    "# Create Pynapple IntervalSet        \n",
    "start, end = get_start_end(hypno=hypno, sleep_state_id=5)\n",
    "rem_interval = nap.IntervalSet(start=start, end=end)\n",
    "\n",
    "# Create TsdFrame for HPC and PFC signals\n",
    "fs = int(n_down*targetFs)\n",
    "t = np.arange(0, len(lfpHPC)/fs, 1/fs)\n",
    "lfp = nap.TsdFrame(t=t, d=np.vstack([lfpHPC, lfpPFC]).T, columns=['HPC', 'PFC'])\n",
    "\n",
    "# Detect phasic intervals\n",
    "lfpHPC_down = preprocess(lfpHPC, n_down)\n",
    "phREM = detect_phasic(lfpHPC_down, hypno, targetFs)"
   ]
  },
  {
   "cell_type": "markdown",
   "metadata": {},
   "source": [
    "## Access the HPC and PFC signals during phasic REM"
   ]
  },
  {
   "cell_type": "code",
   "execution_count": null,
   "metadata": {},
   "outputs": [],
   "source": [
    "lfp.restrict(phasic_interval)"
   ]
  },
  {
   "cell_type": "code",
   "execution_count": 5,
   "metadata": {},
   "outputs": [],
   "source": [
    "phrem_hpc = [lfp[\"HPC\"].restrict(phasic_interval[i]).to_numpy() for i in range(len(phasic_interval))]\n",
    "tonic_hpc = [lfp[\"HPC\"].restrict(tonic_interval[i]).to_numpy() for i in range(len(tonic_interval))]"
   ]
  },
  {
   "cell_type": "code",
   "execution_count": 25,
   "metadata": {},
   "outputs": [],
   "source": [
    "np.savez(name+'_phasic', *phrem_hpc)\n",
    "np.savez(name+'_tonic', *tonic_hpc)"
   ]
  },
  {
   "cell_type": "code",
   "execution_count": null,
   "metadata": {},
   "outputs": [],
   "source": [
    "data = np.load('Rat5_SD8_HC_0_posttrial3_phasic.npz')\n",
    "phrem = [data[key] for key in data]\n",
    "phrem"
   ]
  },
  {
   "cell_type": "markdown",
   "metadata": {},
   "source": [
    "## Access HPC and PFC signals during tonic REM"
   ]
  },
  {
   "cell_type": "code",
   "execution_count": null,
   "metadata": {},
   "outputs": [],
   "source": [
    "lfp.restrict(tonic_interval)"
   ]
  }
 ],
 "metadata": {
  "kernelspec": {
   "display_name": "Python 3",
   "language": "python",
   "name": "python3"
  },
  "language_info": {
   "codemirror_mode": {
    "name": "ipython",
    "version": 3
   },
   "file_extension": ".py",
   "mimetype": "text/x-python",
   "name": "python",
   "nbconvert_exporter": "python",
   "pygments_lexer": "ipython3",
   "version": "3.12.4"
  }
 },
 "nbformat": 4,
 "nbformat_minor": 2
}
